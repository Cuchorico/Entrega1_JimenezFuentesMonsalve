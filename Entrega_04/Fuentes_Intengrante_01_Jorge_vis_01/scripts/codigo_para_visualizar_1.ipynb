{
  "nbformat": 4,
  "nbformat_minor": 0,
  "metadata": {
    "colab": {
      "provenance": []
    },
    "kernelspec": {
      "name": "python3",
      "display_name": "Python 3"
    },
    "language_info": {
      "name": "python"
    }
  },
  "cells": [
    {
      "cell_type": "code",
      "source": [
        "import pandas as pd\n",
        "import altair as alt\n",
        "\n",
        "source = pd.DataFrame({\"values\": [7368, 1523, 1222, 2393, 2361, 600, 1237, 349]})\n",
        "\n",
        "base = alt.Chart(source).encode(\n",
        "    theta=alt.Theta(\"values:Q\", stack=True),\n",
        "    radius=alt.Radius(\"values\", scale=alt.Scale(type=\"sqrt\", zero=True, rangeMin=20)),\n",
        "    color=\"values:N\",\n",
        ")\n",
        "\n",
        "c1 = base.mark_arc(innerRadius=20, stroke=\"#fff\")\n",
        "\n",
        "c2 = base.mark_text(radiusOffset=10).encode(text=\"values:N\")\n",
        "\n",
        "c1 + c2\n"
      ],
      "metadata": {
        "id": "EncWKazoP_4g"
      },
      "execution_count": null,
      "outputs": []
    }
  ]
}