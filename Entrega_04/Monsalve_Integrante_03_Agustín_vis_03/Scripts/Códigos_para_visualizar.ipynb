# Códigos para visualizar

1) import pandas as pd
nRowsRead = None 
IND = pd.read_csv('/content/drive/MyDrive/Variación anual de ingresos al presupuesto del IND.csv', delimiter=',', nrows = nRowsRead, encoding="latin-1")
IND.dataframeName = 'Variación anual de ingresos al presupuesto del IND'
nRow, nCol = IND.shape
print(f'There are {nRow} rows and {nCol} columns')

2) IND

3)import matplotlib.pyplot as plt

valoresAY = [156471,141443,149352,132558,136003,4873,152650,261005,528688]
valoresBY = [27248,28766,38861,28053,20926,2912,142177,258068,103504]
valoresX = [2015,2016,2017,2018,2019,2020,2021,2022,2023]
fig, ax = plt.subplots()
plt.plot(valoresX, valoresAY, "o--g" )
plt.plot(valoresX, valoresBY, "s:b" )
plt.legend(["Presupuesto IND (miles de $US)", "Ejecución o gasto (miles de $US)"])
plt.show()